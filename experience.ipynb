{
 "cells": [
  {
   "cell_type": "code",
   "execution_count": null,
   "metadata": {},
   "outputs": [],
   "source": [
    "import matplotlib.pyplot as plt\n",
    "import numpy as np\n",
    "import cv2 as cv\n",
    "\n",
    "import gymnasium as gym\n",
    "from stable_baselines3 import PPO\n",
    "from stable_baselines3.common.env_checker import check_env\n",
    "from stable_baselines3.common.env_util import make_vec_env, SubprocVecEnv\n"
   ]
  },
  {
   "cell_type": "code",
   "execution_count": null,
   "metadata": {},
   "outputs": [],
   "source": [
    "def preprocess(img):\n",
    "    # img = cv.resize(img, dsize=(84, 84)) # or you can simply use rescaling\n",
    "    # img = cv.cvtColor(img, cv.COLOR_RGB2GRAY) / 255.0\n",
    "    \n",
    "    # gray scale\n",
    "    img = cv.cvtColor(img, cv.COLOR_RGB2GRAY)\n",
    "    \n",
    "    # crop\n",
    "    img = img[:84, 6:90]\n",
    "    return img "
   ]
  },
  {
   "cell_type": "code",
   "execution_count": null,
   "metadata": {},
   "outputs": [],
   "source": [
    "class CustomEnv(gym.Wrapper):\n",
    "    def __init__(\n",
    "        self,\n",
    "        env,\n",
    "        skip_frames=4,\n",
    "        stack_frames=4,\n",
    "        initial_no_op=50,\n",
    "        max_episode_steps=1000, \n",
    "        **kwargs\n",
    "    ):\n",
    "        super(CustomEnv, self).__init__(env, **kwargs)\n",
    "        \n",
    "        # image modifications\n",
    "        self.observation_space = gym.spaces.Box(low=0, high=255, shape=(4, 84,84), dtype=np.uint8)\n",
    "        self.initial_no_op = initial_no_op\n",
    "        self.skip_frames = skip_frames\n",
    "        self.stack_frames = stack_frames\n",
    "\n",
    "        # max episode length\n",
    "        self.max_episode_steps = max_episode_steps \n",
    "        self.step_count = 0\n",
    "    \n",
    "    def reset(self, **kwargs):\n",
    "        # Reset the original environment.\n",
    "        s, info = self.env.reset(**kwargs)\n",
    "        self.step_count = 0\n",
    "\n",
    "        # Do nothing for the next self.initial_no_op steps\n",
    "        for i in range(self.initial_no_op):\n",
    "            s, r, terminated, truncated, info = self.env.step(0)\n",
    "        \n",
    "        # Convert a frame to 84 X 84 gray scale one\n",
    "        s = preprocess(s)\n",
    "        \n",
    "        \n",
    "        # The initial observation is simply a copy of the frame s\n",
    "        self.stacked_state = np.tile(s, (self.stack_frames, 1, 1))  # [4, 84, 84]\n",
    "        return self.stacked_state, info\n",
    "    \n",
    "    def step(self, action):        \n",
    "        self.step_count += 1\n",
    "\n",
    "        # We take an action for self.skip_frames steps\n",
    "        reward = 0\n",
    "        for _ in range(self.skip_frames):\n",
    "            s, r, terminated, truncated, info = self.env.step(action)\n",
    "            reward += r\n",
    "            if terminated or truncated:\n",
    "                break\n",
    "        \n",
    "        if self.step_count >= self.max_episode_steps:\n",
    "            truncated = True\n",
    "            info['truncated'] = True\n",
    "\n",
    "        # clip reward\n",
    "        reward = np.clip(reward, a_min=None, a_max=1.0)\n",
    "\n",
    "        # Convert a frame to 84 X 84 gray scale one\n",
    "        s = preprocess(s)\n",
    "\n",
    "        # Push the current frame s at the end of self.stacked_state\n",
    "        self.stacked_state = np.concatenate((self.stacked_state[1:], s[np.newaxis]), axis=0)\n",
    "\n",
    "        return self.stacked_state, reward, terminated, truncated, info"
   ]
  },
  {
   "cell_type": "code",
   "execution_count": null,
   "metadata": {},
   "outputs": [],
   "source": [
    "env = gym.make('CarRacing-v2', continuous=False, render_mode=\"rgb_array\")\n",
    "env = CustomEnv(env)\n",
    "\n",
    "# inspect observation type\n",
    "s, _ = env.reset()\n",
    "print(\"The shape of an observation: \", s.shape)\n",
    "\n",
    "fig, axes = plt.subplots(1, 4, figsize=(20, 5))\n",
    "for i in range(4):\n",
    "    axes[i].imshow(s[i], cmap='gray')\n",
    "    axes[i].axis('off')\n",
    "plt.show()\n",
    "\n",
    "# check if env is okay for stable_baselines3\n",
    "check_env(env);"
   ]
  },
  {
   "cell_type": "code",
   "execution_count": null,
   "metadata": {},
   "outputs": [],
   "source": [
    "make_env = lambda : CustomEnv(gym.make('CarRacing-v2', continuous=False, render_mode=\"rgb_array\"))\n",
    "num_envs = 6\n",
    "\n",
    "envs = SubprocVecEnv([make_env]*num_envs)\n",
    "model = PPO(\"CnnPolicy\", envs, verbose=1)\n",
    "model.learn(total_timesteps=1e7, progress_bar=True)"
   ]
  },
  {
   "cell_type": "code",
   "execution_count": null,
   "metadata": {},
   "outputs": [],
   "source": [
    "from IPython import display\n",
    "\n",
    "test_env = make_env()\n",
    "observation, info = test_env.reset()\n",
    "img = plt.imshow(test_env.render()) \n",
    "while True:\n",
    "    img.set_data(test_env.render()) \n",
    "    display.display(plt.gcf())\n",
    "    display.clear_output(wait=True)\n",
    "    action, _states = model.predict(observation)\n",
    "    observation, reward, terminated, truncated, info = test_env.step(action)\n",
    "    if terminated or truncated:\n",
    "        break\n"
   ]
  }
 ],
 "metadata": {
  "kernelspec": {
   "display_name": "env",
   "language": "python",
   "name": "python3"
  },
  "language_info": {
   "codemirror_mode": {
    "name": "ipython",
    "version": 3
   },
   "file_extension": ".py",
   "mimetype": "text/x-python",
   "name": "python",
   "nbconvert_exporter": "python",
   "pygments_lexer": "ipython3",
   "version": "3.9.18"
  }
 },
 "nbformat": 4,
 "nbformat_minor": 2
}
